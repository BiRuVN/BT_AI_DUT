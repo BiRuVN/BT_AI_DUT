{
 "cells": [
  {
   "cell_type": "code",
   "execution_count": 2,
   "metadata": {},
   "outputs": [],
   "source": [
    "import numpy as np\n",
    "import pandas as pd"
   ]
  },
  {
   "cell_type": "code",
   "execution_count": 3,
   "metadata": {},
   "outputs": [
    {
     "data": {
      "text/html": [
       "<div>\n",
       "<style scoped>\n",
       "    .dataframe tbody tr th:only-of-type {\n",
       "        vertical-align: middle;\n",
       "    }\n",
       "\n",
       "    .dataframe tbody tr th {\n",
       "        vertical-align: top;\n",
       "    }\n",
       "\n",
       "    .dataframe thead th {\n",
       "        text-align: right;\n",
       "    }\n",
       "</style>\n",
       "<table border=\"1\" class=\"dataframe\">\n",
       "  <thead>\n",
       "    <tr style=\"text-align: right;\">\n",
       "      <th></th>\n",
       "      <th>sepal length</th>\n",
       "      <th>sepal width</th>\n",
       "      <th>petal length</th>\n",
       "      <th>petal width</th>\n",
       "      <th>species</th>\n",
       "      <th>setosa</th>\n",
       "      <th>versicolor</th>\n",
       "      <th>virginica</th>\n",
       "    </tr>\n",
       "  </thead>\n",
       "  <tbody>\n",
       "    <tr>\n",
       "      <th>0</th>\n",
       "      <td>5.1</td>\n",
       "      <td>3.5</td>\n",
       "      <td>1.4</td>\n",
       "      <td>0.2</td>\n",
       "      <td>setosa</td>\n",
       "      <td>1</td>\n",
       "      <td>0</td>\n",
       "      <td>0</td>\n",
       "    </tr>\n",
       "    <tr>\n",
       "      <th>1</th>\n",
       "      <td>4.9</td>\n",
       "      <td>3.0</td>\n",
       "      <td>1.4</td>\n",
       "      <td>0.2</td>\n",
       "      <td>setosa</td>\n",
       "      <td>1</td>\n",
       "      <td>0</td>\n",
       "      <td>0</td>\n",
       "    </tr>\n",
       "    <tr>\n",
       "      <th>2</th>\n",
       "      <td>4.7</td>\n",
       "      <td>3.2</td>\n",
       "      <td>1.3</td>\n",
       "      <td>0.2</td>\n",
       "      <td>setosa</td>\n",
       "      <td>1</td>\n",
       "      <td>0</td>\n",
       "      <td>0</td>\n",
       "    </tr>\n",
       "    <tr>\n",
       "      <th>3</th>\n",
       "      <td>4.6</td>\n",
       "      <td>3.1</td>\n",
       "      <td>1.5</td>\n",
       "      <td>0.2</td>\n",
       "      <td>setosa</td>\n",
       "      <td>1</td>\n",
       "      <td>0</td>\n",
       "      <td>0</td>\n",
       "    </tr>\n",
       "    <tr>\n",
       "      <th>4</th>\n",
       "      <td>5.0</td>\n",
       "      <td>3.6</td>\n",
       "      <td>1.4</td>\n",
       "      <td>0.2</td>\n",
       "      <td>setosa</td>\n",
       "      <td>1</td>\n",
       "      <td>0</td>\n",
       "      <td>0</td>\n",
       "    </tr>\n",
       "  </tbody>\n",
       "</table>\n",
       "</div>"
      ],
      "text/plain": [
       "   sepal length  sepal width  petal length  petal width species  setosa  \\\n",
       "0           5.1          3.5           1.4          0.2  setosa       1   \n",
       "1           4.9          3.0           1.4          0.2  setosa       1   \n",
       "2           4.7          3.2           1.3          0.2  setosa       1   \n",
       "3           4.6          3.1           1.5          0.2  setosa       1   \n",
       "4           5.0          3.6           1.4          0.2  setosa       1   \n",
       "\n",
       "   versicolor  virginica  \n",
       "0           0          0  \n",
       "1           0          0  \n",
       "2           0          0  \n",
       "3           0          0  \n",
       "4           0          0  "
      ]
     },
     "execution_count": 3,
     "metadata": {},
     "output_type": "execute_result"
    }
   ],
   "source": [
    "df = pd.read_csv(\"./flowers.csv\")\n",
    "df[df['species'].unique()] = pd.get_dummies(df['species'])\n",
    "df.head()"
   ]
  },
  {
   "cell_type": "code",
   "execution_count": 4,
   "metadata": {},
   "outputs": [
    {
     "data": {
      "text/plain": [
       "Index(['sepal length', 'sepal width', 'petal length', 'petal width', 'species',\n",
       "       'setosa', 'versicolor', 'virginica'],\n",
       "      dtype='object')"
      ]
     },
     "execution_count": 4,
     "metadata": {},
     "output_type": "execute_result"
    }
   ],
   "source": [
    "df.columns"
   ]
  },
  {
   "cell_type": "code",
   "execution_count": 5,
   "metadata": {},
   "outputs": [],
   "source": [
    "def LR(X_train, y):\n",
    "    A = np.dot(X_train.T, X_train)\n",
    "    b = np.dot(X_train.T, y)\n",
    "    w = np.dot(np.linalg.pinv(A), b)\n",
    "\n",
    "    yhat = np.dot(X_train, w)\n",
    "    return yhat"
   ]
  },
  {
   "cell_type": "code",
   "execution_count": 6,
   "metadata": {},
   "outputs": [],
   "source": [
    "X = df[['sepal length', 'sepal width', 'petal length', 'setosa', 'versicolor', 'virginica']].copy().to_numpy()\n",
    "y = df['petal width'].to_numpy()"
   ]
  },
  {
   "cell_type": "code",
   "execution_count": 7,
   "metadata": {},
   "outputs": [
    {
     "name": "stdout",
     "output_type": "stream",
     "text": [
      "X: \n",
      "[[5.1 3.5 1.4 ... 0.  0.  1. ]\n",
      " [4.9 3.  1.4 ... 0.  0.  1. ]\n",
      " [4.7 3.2 1.3 ... 0.  0.  1. ]\n",
      " ...\n",
      " [6.5 3.  5.2 ... 0.  1.  1. ]\n",
      " [6.2 3.4 5.4 ... 0.  1.  1. ]\n",
      " [5.9 3.  5.1 ... 0.  1.  1. ]]\n",
      "yhat: \n",
      "[ 0.23968609  0.13717259  0.17997912  0.21349301  0.2731995   0.38134705\n",
      "  0.26193287  0.2489797   0.15941936  0.18561292  0.28446638  0.29178671\n",
      "  0.14646595  0.12027191  0.2472922   0.42612662  0.2844659   0.23968609\n",
      "  0.32924691  0.33656652  0.26024682  0.31234647  0.21349181  0.26390686\n",
      "  0.36444758  0.1763198   0.27319999  0.25461302  0.20617268  0.25263998\n",
      "  0.21912657  0.21180624  0.3999333   0.37205297  0.18561292  0.12787874\n",
      "  0.17829235  0.28249287  0.15941912  0.23968633  0.22475917 -0.01941457\n",
      "  0.20785921  0.29742003  0.43344767  0.14646595  0.36078681  0.21349277\n",
      "  0.29375975  0.20053936  1.43783408  1.44515368  1.47134797  1.1897121\n",
      "  1.36320042  1.41332704  1.52710767  1.10015031  1.3781271   1.29025209\n",
      "  1.04241734  1.37051955  1.11902523  1.44881421  1.22885786  1.36883326\n",
      "  1.4710605   1.28293248  1.22153994  1.20463854  1.56428137  1.25505215\n",
      "  1.38178787  1.42459416  1.32405297  1.35390657  1.38376091  1.48993494\n",
      "  1.409667    1.12268407  1.16549157  1.14127128  1.23449191  1.50654863\n",
      "  1.48964723  1.53076723  1.44149412  1.21224634  1.37417935  1.23815219\n",
      "  1.35925339  1.44881397  1.23449215  1.0666369   1.3257395   1.38910627\n",
      "  1.36488623  1.3426397   1.03312277  1.31644589  2.24022913  1.92339308\n",
      "  2.06900179  2.04646779  2.10054169  2.19207699  1.81327153  2.12307617\n",
      "  1.96085472  2.25346928  1.97943976  1.91607347  2.00000073  1.86002606\n",
      "  1.94761312  2.0371737   2.02788082  2.40076429  2.1585643   1.75948583\n",
      "  2.08758804  1.91775928  2.15856382  1.82848568  2.13039481  2.13236881\n",
      "  1.8377788   1.91973255  2.01295438  2.03548814  2.04112218  2.3095167\n",
      "  2.01295438  1.9011463   1.99239438  2.06168218  2.16756803  2.06139423\n",
      "  1.90480563  1.99070713  2.05773443  1.91804626  1.92339308  2.14532198\n",
      "  2.13039481  1.93663323  1.80426588  1.95521996  2.12842081  1.98675985]\n"
     ]
    }
   ],
   "source": [
    "#print(data)\n",
    "bias = np.ones((X.shape[0], 1))\n",
    "X_train = np.concatenate((X, bias), axis=1)\n",
    "print(\"X: \")\n",
    "print(X_train)\n",
    "\n",
    "yhat = LR(X_train, y)\n",
    "print(\"yhat: \")\n",
    "print(yhat)"
   ]
  },
  {
   "cell_type": "code",
   "execution_count": null,
   "metadata": {},
   "outputs": [],
   "source": []
  }
 ],
 "metadata": {
  "kernelspec": {
   "display_name": "Python 3.7.4 64-bit ('base': conda)",
   "language": "python",
   "name": "python37464bitbasecondab07596d98f4d4410b2b460202766a0ca"
  },
  "language_info": {
   "codemirror_mode": {
    "name": "ipython",
    "version": 3
   },
   "file_extension": ".py",
   "mimetype": "text/x-python",
   "name": "python",
   "nbconvert_exporter": "python",
   "pygments_lexer": "ipython3",
   "version": "3.7.4"
  }
 },
 "nbformat": 4,
 "nbformat_minor": 2
}

{
 "cells": [
  {
   "cell_type": "code",
   "execution_count": 1,
   "metadata": {},
   "outputs": [],
   "source": [
    "import numpy as np\n",
    "import pandas as pd"
   ]
  },
  {
   "cell_type": "code",
   "execution_count": 28,
   "metadata": {},
   "outputs": [],
   "source": [
    "def sigmoid(z):\n",
    "    return 1.0 / (1.0 + np.exp(-z))\n",
    "\n",
    "\n",
    "def d_sigmoid(z):\n",
    "    s = sigmoid(z)\n",
    "    return s*(1-s)\n",
    "\n",
    "\n",
    "def add_bias(a):\n",
    "    return np.insert(a, 0, 1, axis=1)\n",
    "\n",
    "\n",
    "def feedforward(x, w):\n",
    "    z = []\n",
    "    a = [add_bias(x)]\n",
    "    for i in range(1, nL):\n",
    "        z_i = np.dot(a[i-1], w[i-1].T)\n",
    "        a_i = sigmoid(z_i)\n",
    "        if i < nL - 1:\n",
    "            a_i = add_bias(a_i)\n",
    "        z.append(z_i)\n",
    "        a.append(a_i)\n",
    "    # print('f')\n",
    "    return z, a\n",
    "\n",
    "\n",
    "def backprop(x, y):\n",
    "    w_grad = [np.zeros(_w.shape) for _w in w]\n",
    "    z, a = feedforward(x, w)\n",
    "\n",
    "    # loss = 1.0 * (y^ - y) ** 2 / 2\n",
    "    d_a = 2*(a[-1] - y) / m_d\n",
    "\n",
    "    r = None\n",
    "    for l in range(1, nL):\n",
    "        i = -l\n",
    "        d_z = d_sigmoid(z[i])\n",
    "        if i < -1:\n",
    "            r = np.dot(r, w[i + 1][:,1:])*d_z\n",
    "        if i == -1:\n",
    "            r = d_a * d_z\n",
    "        w_grad[i] = np.dot(a[i - 1].T, r)\n",
    "\n",
    "    return w_grad\n",
    "\n",
    "def predict(x):\n",
    "    z, a = feedforward(x, w)\n",
    "    return z, a\n",
    "\n",
    "def train(inputs, outputs, w, eta=0.002, loop=10000):\n",
    "    while loop > 0:\n",
    "        w_grad = backprop(inputs, outputs)\n",
    "        w = [W - eta*W_grad.T for W, W_grad in zip(w, w_grad)]\n",
    "        loop -= 1\n",
    "    return w"
   ]
  },
  {
   "cell_type": "code",
   "execution_count": 29,
   "metadata": {},
   "outputs": [
    {
     "name": "stdout",
     "output_type": "stream",
     "text": [
      "[3, 3, 4, 1]\n",
      "[[1.]]\n"
     ]
    }
   ],
   "source": [
    "df = pd.read_csv('./commercial.csv')\n",
    "m_d, n_d = df.values.shape\n",
    "\n",
    "inputs = (df.values[:, 0:n_d - 1])\n",
    "outputs = (df.values[:, n_d-1:n_d])\n",
    "\n",
    "layers = [n_d-1, 3, 4, 1]\n",
    "print(layers)\n",
    "nL = len(layers)\n",
    "\n",
    "# init weights\n",
    "w = [np.random.randn(l2, l1+1) for l2, l1 in zip(layers[1:], layers[:-1])]\n",
    "\n",
    "# Train\n",
    "w = train(inputs, outputs, w)\n",
    "\n",
    "# Test 1 sample\n",
    "X_test = np.array([[288, 28.8, 30.1]])\n",
    "\n",
    "z, a = predict(X_test)\n",
    "\n",
    "print(a[-1])"
   ]
  },
  {
   "cell_type": "code",
   "execution_count": null,
   "metadata": {},
   "outputs": [],
   "source": []
  }
 ],
 "metadata": {
  "kernelspec": {
   "display_name": "Python 3.7.4 64-bit ('base': conda)",
   "language": "python",
   "name": "python37464bitbasecondab07596d98f4d4410b2b460202766a0ca"
  },
  "language_info": {
   "codemirror_mode": {
    "name": "ipython",
    "version": 3
   },
   "file_extension": ".py",
   "mimetype": "text/x-python",
   "name": "python",
   "nbconvert_exporter": "python",
   "pygments_lexer": "ipython3",
   "version": "3.7.4"
  }
 },
 "nbformat": 4,
 "nbformat_minor": 2
}

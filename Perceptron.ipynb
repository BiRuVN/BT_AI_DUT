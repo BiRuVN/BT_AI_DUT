{
 "cells": [
  {
   "cell_type": "code",
   "execution_count": 1,
   "metadata": {},
   "outputs": [],
   "source": [
    "import numpy as np"
   ]
  },
  {
   "cell_type": "code",
   "execution_count": 2,
   "metadata": {},
   "outputs": [],
   "source": [
    "def pred(w, X):\n",
    "    return np.sign(np.dot(w.T, X))\n",
    "\n",
    "def has_converged(X, y, w):\n",
    "    return np.array_equal(pred(w, X), y)"
   ]
  },
  {
   "cell_type": "code",
   "execution_count": 13,
   "metadata": {},
   "outputs": [],
   "source": [
    "def my_perceptron(X, y, w_init):\n",
    "    w = [w_init]\n",
    "    N = X.shape[1]\n",
    "    d = X.shape[0]\n",
    "    mis_points = []\n",
    "    while True:\n",
    "        # mix data\n",
    "        mix_id = np.random.permutation(N)\n",
    "        for idx in mix_id:\n",
    "            xi = X[:, idx].reshape(d, 1)\n",
    "            yi = y[0, idx]\n",
    "            if pred(w[-1], xi)[0] != yi:\n",
    "                mis_points.append(idx)\n",
    "                w_new = w[-1] + yi*xi\n",
    "                w.append(w_new)\n",
    "        if has_converged(X, y, w[-1]):\n",
    "            break\n",
    "    return (w, mis_points)"
   ]
  },
  {
   "cell_type": "code",
   "execution_count": 14,
   "metadata": {},
   "outputs": [
    {
     "name": "stdout",
     "output_type": "stream",
     "text": [
      "[[1.         2.02047255 2.57275292]\n",
      " [1.         2.36956362 1.56203014]\n",
      " [1.         1.20625954 1.04452122]\n",
      " [1.         2.35853286 2.37141223]\n",
      " [1.         1.67541566 2.45288313]\n",
      " [1.         2.30636447 2.16765377]\n",
      " [1.         1.59605683 2.71853328]\n",
      " [1.         2.40204518 2.60115365]\n",
      " [1.         2.10201917 1.7889657 ]\n",
      " [1.         2.42780885 2.72659206]\n",
      " [1.         4.09822022 2.06608103]\n",
      " [1.         3.34665125 1.78145207]\n",
      " [1.         4.07895638 1.95316864]\n",
      " [1.         4.12644714 1.61728091]\n",
      " [1.         3.4058985  1.48072912]\n",
      " [1.         4.85537154 3.02371418]\n",
      " [1.         4.76519682 1.96569318]\n",
      " [1.         4.21783046 2.55011789]\n",
      " [1.         3.64220876 2.00266213]\n",
      " [1.         3.76305322 1.5410247 ]]\n",
      "[[ 1.  1.  1.  1.  1.  1.  1.  1.  1.  1. -1. -1. -1. -1. -1. -1. -1. -1.\n",
      "  -1. -1.]]\n",
      "[[ 2.5113337  -3.99346324  4.72597025]]\n"
     ]
    }
   ],
   "source": [
    "means = [[2, 2], [4, 2]]\n",
    "cov = [[.3, .2], [.2, .3]]\n",
    "N = 10\n",
    "X0 = np.random.multivariate_normal(means[0], cov, N).T\n",
    "X1 = np.random.multivariate_normal(means[1], cov, N).T\n",
    "\n",
    "X = np.concatenate((X0, X1), axis = 1)\n",
    "y = np.concatenate((np.ones((1, N)), -1*np.ones((1, N))), axis = 1)\n",
    "# Xbar \n",
    "Xbar = np.concatenate((np.ones((1, 2*N)), X), axis = 0)\n",
    "\n",
    "print(Xbar.T)\n",
    "print(y)\n",
    "\n",
    "d = Xbar.shape[0]\n",
    "w_init = np.random.randn(d, 1)\n",
    "(w, m) = my_perceptron(Xbar, y, w_init)\n",
    "print(w[-1].T)\n",
    "# print(len(w[-1]))"
   ]
  },
  {
   "cell_type": "code",
   "execution_count": null,
   "metadata": {},
   "outputs": [],
   "source": []
  }
 ],
 "metadata": {
  "kernelspec": {
   "display_name": "Python 3.7.4 64-bit ('base': conda)",
   "language": "python",
   "name": "python37464bitbasecondab07596d98f4d4410b2b460202766a0ca"
  },
  "language_info": {
   "codemirror_mode": {
    "name": "ipython",
    "version": 3
   },
   "file_extension": ".py",
   "mimetype": "text/x-python",
   "name": "python",
   "nbconvert_exporter": "python",
   "pygments_lexer": "ipython3",
   "version": "3.7.4"
  }
 },
 "nbformat": 4,
 "nbformat_minor": 2
}
